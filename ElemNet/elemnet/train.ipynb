{
 "cells": [
  {
   "cell_type": "markdown",
   "metadata": {},
   "source": [
    "## ElemNet: A formation energy prediction tool from elemental composition"
   ]
  },
  {
   "cell_type": "markdown",
   "metadata": {},
   "source": [
    "### A formation energy prediction tool using 17-layered deep neural network that achieves an accuracy of 0.042 on the Open Quantum Materials Database (OQMD).\n",
    "### Input: Takes a 2D numpy array with the rows representing different compounds, and columns representing the elemental compositions with 86 elements in the set elements- ['H', 'Li', 'Be', 'B', 'C', 'N', 'O', 'F', 'Na', 'Mg', 'Al', 'Si', 'P', 'S', 'Cl', 'K', 'Ca', 'Sc', 'Ti', 'V', 'Cr', 'Mn', 'Fe', 'Co', 'Ni', 'Cu', 'Zn', 'Ga', 'Ge', 'As', 'Se', 'Br', 'Kr', 'Rb', 'Sr', 'Y', 'Zr', 'Nb', 'Mo', 'Tc', 'Ru', 'Rh', 'Pd', 'Ag', 'Cd', 'In', 'Sn', 'Sb', 'Te', 'I', 'Xe', 'Cs', 'Ba', 'La', 'Ce', 'Pr', 'Nd', 'Pm', 'Sm', 'Eu', 'Gd', 'Tb', 'Dy', 'Ho', 'Er', 'Tm', 'Yb', 'Lu', 'Hf', 'Ta', 'W', 'Re', 'Os', 'Ir', 'Pt', 'Au', 'Hg', 'Tl', 'Pb', 'Bi', 'Ac', 'Th', 'Pa', 'U', 'Np', 'Pu'], elemental compositon does not contain any element from ['He', 'Ne', 'Ar', 'Po', 'At','Rn','Fr','Ra']\n",
    "### Output: Returns a 1D numpy array with the predicted formation energy"
   ]
  },
  {
   "cell_type": "code",
   "execution_count": 1,
   "metadata": {},
   "outputs": [],
   "source": [
    "import tensorflow as tf\n",
    "import numpy as np\n",
    "import time, os, re\n",
    "from collections import OrderedDict, defaultdict"
   ]
  },
  {
   "cell_type": "code",
   "execution_count": 2,
   "metadata": {},
   "outputs": [],
   "source": [
    "elements = ['H', 'Li', 'Be', 'B', 'C', 'N', 'O', 'F', 'Na', 'Mg', 'Al', 'Si', 'P', 'S', 'Cl', 'K', 'Ca', 'Sc', 'Ti', 'V', \n",
    "            'Cr', 'Mn', 'Fe', 'Co', 'Ni', 'Cu', 'Zn', 'Ga', 'Ge', 'As', 'Se', 'Br', 'Kr', 'Rb', 'Sr', 'Y', 'Zr', 'Nb', \n",
    "            'Mo', 'Tc', 'Ru', 'Rh', 'Pd', 'Ag', 'Cd', 'In', 'Sn', 'Sb', 'Te', 'I', 'Xe', 'Cs', 'Ba', 'La', 'Ce', 'Pr', \n",
    "            'Nd', 'Pm', 'Sm', 'Eu', 'Gd', 'Tb', 'Dy', 'Ho', 'Er', 'Tm', 'Yb', 'Lu', 'Hf', 'Ta', 'W', 'Re', 'Os', 'Ir', \n",
    "            'Pt', 'Au', 'Hg', 'Tl', 'Pb', 'Bi', 'Ac', 'Th', 'Pa', 'U', 'Np', 'Pu']"
   ]
  },
  {
   "cell_type": "code",
   "execution_count": 3,
   "metadata": {},
   "outputs": [],
   "source": [
    "formulare = re.compile(r'([A-Z][a-z]*)(\\d*)')\n",
    "def parse_formula(formula):\n",
    "    pairs = formulare.findall(formula)\n",
    "    length = sum((len(p[0]) + len(p[1]) for p in pairs))\n",
    "    assert length == len(formula)\n",
    "    formula_dict = defaultdict(int)\n",
    "    for el, sub in pairs:\n",
    "        formula_dict[el] += float(sub) if sub else 1\n",
    "    return formula_dict"
   ]
  },
  {
   "cell_type": "code",
   "execution_count": 4,
   "metadata": {},
   "outputs": [],
   "source": [
    "formulas = ['H2O','NaCl', 'H2SO4']"
   ]
  },
  {
   "cell_type": "code",
   "execution_count": 5,
   "metadata": {},
   "outputs": [
    {
     "name": "stdout",
     "output_type": "stream",
     "text": [
      "[defaultdict(<class 'int'>, {'H': 2.0, 'O': 1}), defaultdict(<class 'int'>, {'Na': 1, 'Cl': 1}), defaultdict(<class 'int'>, {'H': 2.0, 'S': 1, 'O': 4.0})]\n"
     ]
    }
   ],
   "source": [
    "formulas = [parse_formula(x) for x in formulas]\n",
    "print(formulas)"
   ]
  },
  {
   "cell_type": "code",
   "execution_count": 6,
   "metadata": {},
   "outputs": [
    {
     "data": {
      "text/plain": [
       "array([0.6666667 , 0.        , 0.        , 0.        , 0.        ,\n",
       "       0.        , 0.33333334, 0.        , 0.        , 0.        ,\n",
       "       0.        , 0.        , 0.        , 0.        , 0.        ,\n",
       "       0.        , 0.        , 0.        , 0.        , 0.        ,\n",
       "       0.        , 0.        , 0.        , 0.        , 0.        ,\n",
       "       0.        , 0.        , 0.        , 0.        , 0.        ,\n",
       "       0.        , 0.        , 0.        , 0.        , 0.        ,\n",
       "       0.        , 0.        , 0.        , 0.        , 0.        ,\n",
       "       0.        , 0.        , 0.        , 0.        , 0.        ,\n",
       "       0.        , 0.        , 0.        , 0.        , 0.        ,\n",
       "       0.        , 0.        , 0.        , 0.        , 0.        ,\n",
       "       0.        , 0.        , 0.        , 0.        , 0.        ,\n",
       "       0.        , 0.        , 0.        , 0.        , 0.        ,\n",
       "       0.        , 0.        , 0.        , 0.        , 0.        ,\n",
       "       0.        , 0.        , 0.        , 0.        , 0.        ,\n",
       "       0.        , 0.        , 0.        , 0.        , 0.        ,\n",
       "       0.        , 0.        , 0.        , 0.        , 0.        ,\n",
       "       0.        ], dtype=float32)"
      ]
     },
     "execution_count": 6,
     "metadata": {},
     "output_type": "execute_result"
    }
   ],
   "source": [
    "samp_input = np.zeros(shape=(len(formulas), 86), dtype=np.float32)\n",
    "i = -1\n",
    "for formula in formulas:\n",
    "    i+=1\n",
    "    keys = formula.keys()\n",
    "    values = formula.values()\n",
    "    total = float(sum(values))\n",
    "    for k in keys:\n",
    "        samp_input[i][elements.index(k)] = formula[k]/total\n",
    "samp_input[0]"
   ]
  },
  {
   "cell_type": "code",
   "execution_count": 14,
   "metadata": {},
   "outputs": [
    {
     "name": "stdout",
     "output_type": "stream",
     "text": [
      "train data path is  ../training-data/train_set.csv\n",
      "input attribute sets are:  ['elements_tl']\n",
      "test data path is  ../training-data/test_set.csv\n",
      "input attributes are:  ['H', 'Li', 'Be', 'B', 'C', 'N', 'O', 'F', 'Na', 'Mg', 'Al', 'Si', 'P', 'S', 'Cl', 'K', 'Ca', 'Sc', 'Ti', 'V', 'Cr', 'Mn', 'Fe', 'Co', 'Ni', 'Cu', 'Zn', 'Ga', 'Ge', 'As', 'Se', 'Br', 'Kr', 'Rb', 'Sr', 'Y', 'Zr', 'Nb', 'Mo', 'Tc', 'Ru', 'Rh', 'Pd', 'Ag', 'Cd', 'In', 'Sn', 'Sb', 'Te', 'I', 'Xe', 'Cs', 'Ba', 'La', 'Ce', 'Pr', 'Nd', 'Pm', 'Sm', 'Eu', 'Gd', 'Tb', 'Dy', 'Ho', 'Er', 'Tm', 'Yb', 'Lu', 'Hf', 'Ta', 'W', 'Re', 'Os', 'Ir', 'Pt', 'Au', 'Hg', 'Tl', 'Pb', 'Bi', 'Ac', 'Th', 'Pa', 'U', 'Np', 'Pu']\n",
      "label: delta_e\n",
      "           energy_pa      volume_pa      magmom_pa        bandgap  \\\n",
      "count  307305.000000  307305.000000  208214.000000  307305.000000   \n",
      "mean       -5.498033      22.045599       0.419167       0.141143   \n",
      "std         1.940040       7.951182       0.604534       0.676448   \n",
      "min       -13.575205       4.149110      -4.248135       0.000000   \n",
      "25%        -6.821718      16.303500       0.000265       0.000000   \n",
      "50%        -5.417986      20.666800       0.163331       0.000000   \n",
      "75%        -4.090056      26.220200       0.713047       0.000000   \n",
      "max         0.672970     203.685000       5.003270      10.340000   \n",
      "\n",
      "             delta_e      stability              H             Li  \\\n",
      "count  307305.000000  290047.000000  307305.000000  307305.000000   \n",
      "mean        0.005359       0.485570       0.003216       0.015558   \n",
      "std         0.857282       1.146317       0.038408       0.071317   \n",
      "min        -4.284843      -3.306395       0.000000       0.000000   \n",
      "25%        -0.262437       0.182271       0.000000       0.000000   \n",
      "50%         0.114133       0.395746       0.000000       0.000000   \n",
      "75%         0.473013       0.670390       0.000000       0.000000   \n",
      "max         4.061899     198.836034       0.888889       0.833333   \n",
      "\n",
      "                  Be              B      ...                   Hg  \\\n",
      "count  307305.000000  307305.000000      ...        307305.000000   \n",
      "mean        0.013536       0.014170      ...             0.012598   \n",
      "std         0.067432       0.070528      ...             0.065352   \n",
      "min         0.000000       0.000000      ...             0.000000   \n",
      "25%         0.000000       0.000000      ...             0.000000   \n",
      "50%         0.000000       0.000000      ...             0.000000   \n",
      "75%         0.000000       0.000000      ...             0.000000   \n",
      "max         0.928571       0.937500      ...             0.916667   \n",
      "\n",
      "                  Tl             Pb             Bi             Ac  \\\n",
      "count  307305.000000  307305.000000  307305.000000  307305.000000   \n",
      "mean        0.013140       0.013143       0.013340       0.010555   \n",
      "std         0.066303       0.066303       0.066979       0.061488   \n",
      "min         0.000000       0.000000       0.000000       0.000000   \n",
      "25%         0.000000       0.000000       0.000000       0.000000   \n",
      "50%         0.000000       0.000000       0.000000       0.000000   \n",
      "75%         0.000000       0.000000       0.000000       0.000000   \n",
      "max         0.857143       0.833333       0.833333       0.833333   \n",
      "\n",
      "                  Th             Pa              U             Np  \\\n",
      "count  307305.000000  307305.000000  307305.000000  307305.000000   \n",
      "mean        0.009926       0.010275       0.009923       0.009517   \n",
      "std         0.060088       0.060805       0.058679       0.058862   \n",
      "min         0.000000       0.000000       0.000000       0.000000   \n",
      "25%         0.000000       0.000000       0.000000       0.000000   \n",
      "50%         0.000000       0.000000       0.000000       0.000000   \n",
      "75%         0.000000       0.000000       0.000000       0.000000   \n",
      "max         0.750000       0.750000       0.857143       0.750000   \n",
      "\n",
      "                  Pu  \n",
      "count  307305.000000  \n",
      "mean        0.009498  \n",
      "std         0.058882  \n",
      "min         0.000000  \n",
      "25%         0.000000  \n",
      "50%         0.000000  \n",
      "75%         0.000000  \n",
      "max         0.750000  \n",
      "\n",
      "[8 rows x 92 columns]\n",
      "          energy_pa     volume_pa     magmom_pa       bandgap       delta_e  \\\n",
      "count  34145.000000  34145.000000  23161.000000  34145.000000  34145.000000   \n",
      "mean      -5.513782     21.986454      0.414948      0.138381      0.005785   \n",
      "std        1.944623      7.952424      0.604046      0.673754      0.860145   \n",
      "min      -13.236726      5.843500     -3.590112      0.000000     -4.269834   \n",
      "25%       -6.851200     16.289500      0.000264      0.000000     -0.257098   \n",
      "50%       -5.447049     20.540400      0.150290      0.000000      0.116595   \n",
      "75%       -4.107817     26.076300      0.703177      0.000000      0.478919   \n",
      "max       -0.534753    102.309000      5.035564      8.606000      3.060611   \n",
      "\n",
      "          stability             H            Li            Be             B  \\\n",
      "count  32228.000000  34145.000000  34145.000000  34145.000000  34145.000000   \n",
      "mean       0.482390      0.003043      0.015801      0.013110      0.015562   \n",
      "std        0.716805      0.036765      0.072299      0.066222      0.074108   \n",
      "min       -3.171397      0.000000      0.000000      0.000000      0.000000   \n",
      "25%        0.185591      0.000000      0.000000      0.000000      0.000000   \n",
      "50%        0.397499      0.000000      0.000000      0.000000      0.000000   \n",
      "75%        0.675345      0.000000      0.000000      0.000000      0.000000   \n",
      "max       74.852599      0.750000      0.750000      0.928571      0.923077   \n",
      "\n",
      "           ...                 Hg            Tl            Pb            Bi  \\\n",
      "count      ...       34145.000000  34145.000000  34145.000000  34145.000000   \n",
      "mean       ...           0.012260      0.013376      0.012927      0.013431   \n",
      "std        ...           0.064120      0.066868      0.065637      0.067519   \n",
      "min        ...           0.000000      0.000000      0.000000      0.000000   \n",
      "25%        ...           0.000000      0.000000      0.000000      0.000000   \n",
      "50%        ...           0.000000      0.000000      0.000000      0.000000   \n",
      "75%        ...           0.000000      0.000000      0.000000      0.000000   \n",
      "max        ...           0.916667      0.750000      0.750000      0.800000   \n",
      "\n",
      "                 Ac            Th            Pa             U            Np  \\\n",
      "count  34145.000000  34145.000000  34145.000000  34145.000000  34145.000000   \n",
      "mean       0.010493      0.009895      0.010307      0.010007      0.009985   \n",
      "std        0.061323      0.059147      0.061005      0.059182      0.060238   \n",
      "min        0.000000      0.000000      0.000000      0.000000      0.000000   \n",
      "25%        0.000000      0.000000      0.000000      0.000000      0.000000   \n",
      "50%        0.000000      0.000000      0.000000      0.000000      0.000000   \n",
      "75%        0.000000      0.000000      0.000000      0.000000      0.000000   \n",
      "max        0.750000      0.750000      0.750000      0.750000      0.750000   \n",
      "\n",
      "                 Pu  \n",
      "count  34145.000000  \n",
      "mean       0.009424  \n",
      "std        0.058724  \n",
      "min        0.000000  \n",
      "25%        0.000000  \n",
      "50%        0.000000  \n",
      "75%        0.000000  \n",
      "max        0.857143  \n",
      "\n",
      "[8 rows x 92 columns]\n",
      "          energy_pa     volume_pa     magmom_pa       bandgap       delta_e  \\\n",
      "count  34145.000000  34145.000000  23161.000000  34145.000000  34145.000000   \n",
      "mean      -5.513782     21.986454      0.414948      0.138381      0.005785   \n",
      "std        1.944623      7.952424      0.604046      0.673754      0.860145   \n",
      "min      -13.236726      5.843500     -3.590112      0.000000     -4.269834   \n",
      "25%       -6.851200     16.289500      0.000264      0.000000     -0.257098   \n",
      "50%       -5.447049     20.540400      0.150290      0.000000      0.116595   \n",
      "75%       -4.107817     26.076300      0.703177      0.000000      0.478919   \n",
      "max       -0.534753    102.309000      5.035564      8.606000      3.060611   \n",
      "\n",
      "          stability             H            Li            Be             B  \\\n",
      "count  32228.000000  34145.000000  34145.000000  34145.000000  34145.000000   \n",
      "mean       0.482390      0.003043      0.015801      0.013110      0.015562   \n",
      "std        0.716805      0.036765      0.072299      0.066222      0.074108   \n",
      "min       -3.171397      0.000000      0.000000      0.000000      0.000000   \n",
      "25%        0.185591      0.000000      0.000000      0.000000      0.000000   \n",
      "50%        0.397499      0.000000      0.000000      0.000000      0.000000   \n",
      "75%        0.675345      0.000000      0.000000      0.000000      0.000000   \n",
      "max       74.852599      0.750000      0.750000      0.928571      0.923077   \n",
      "\n",
      "           ...                 Hg            Tl            Pb            Bi  \\\n",
      "count      ...       34145.000000  34145.000000  34145.000000  34145.000000   \n",
      "mean       ...           0.012260      0.013376      0.012927      0.013431   \n",
      "std        ...           0.064120      0.066868      0.065637      0.067519   \n",
      "min        ...           0.000000      0.000000      0.000000      0.000000   \n",
      "25%        ...           0.000000      0.000000      0.000000      0.000000   \n",
      "50%        ...           0.000000      0.000000      0.000000      0.000000   \n",
      "75%        ...           0.000000      0.000000      0.000000      0.000000   \n",
      "max        ...           0.916667      0.750000      0.750000      0.800000   \n",
      "\n",
      "                 Ac            Th            Pa             U            Np  \\\n",
      "count  34145.000000  34145.000000  34145.000000  34145.000000  34145.000000   \n",
      "mean       0.010493      0.009895      0.010307      0.010007      0.009985   \n",
      "std        0.061323      0.059147      0.061005      0.059182      0.060238   \n",
      "min        0.000000      0.000000      0.000000      0.000000      0.000000   \n",
      "25%        0.000000      0.000000      0.000000      0.000000      0.000000   \n",
      "50%        0.000000      0.000000      0.000000      0.000000      0.000000   \n",
      "75%        0.000000      0.000000      0.000000      0.000000      0.000000   \n",
      "max        0.750000      0.750000      0.750000      0.750000      0.750000   \n",
      "\n",
      "                 Pu  \n",
      "count  34145.000000  \n",
      "mean       0.009424  \n",
      "std        0.058724  \n",
      "min        0.000000  \n",
      "25%        0.000000  \n",
      "50%        0.000000  \n",
      "75%        0.000000  \n",
      "max        0.857143  \n",
      "\n",
      "[8 rows x 92 columns]\n",
      " train, test, valid sizes:  (307305, 86) (307305,) (34145, 86) (34145,) (34145, 86) (34145,)\n"
     ]
    }
   ],
   "source": [
    "from data_utils import load_csv\n",
    "config = {\"loss_type\": \"mae\", \"log_file\": \"sample.log\", \"config_file\": \"sample/job.config\", \"use_valid\": False, \n",
    "         \"test_metric\": \"mae\", \"test_data_path\": \"../training-data/test_set.csv\", \"label\": \"delta_e\", \n",
    "         \"project\": \"ElemNet\", \"input_types\": [\"elements_tl\"], \"train_data_path\": \"../training-data/train_set.csv\", \n",
    "         \"architecture\": \"1024x4D-512x3D-256x3D-128x3D-64x2-32x1-1\", \"save_path\":\"sample/sample_model\",\"dataset\": \"OQMD\"}\n",
    "\n",
    "X_train, y_train, X_valid, y_valid, X_test, y_test = load_csv(config['train_data_path'],\n",
    "                                                              test_data_path=config['test_data_path'],\n",
    "                                                              input_types=config['input_types'],\n",
    "                                                              label=config['label'])\n",
    "\n",
    "X_train = X_train.astype('float32')\n",
    "y_train = y_train.astype('float32')\n",
    "\n",
    "X_valid = X_valid.astype('float32')\n",
    "y_valid = y_valid.astype('float32')\n",
    "\n",
    "X_test = X_test.astype('float32')\n",
    "y_test = y_test.astype('float32')"
   ]
  },
  {
   "cell_type": "code",
   "execution_count": 8,
   "metadata": {},
   "outputs": [],
   "source": [
    "architecture = '1024x4D-512x3D-256x3D-128x3D-64x2-32x1-1'\n",
    "activation = 'relu'\n",
    "dropouts = [0.8, 0.9, 0.7, 0.8]"
   ]
  },
  {
   "cell_type": "code",
   "execution_count": 9,
   "metadata": {},
   "outputs": [],
   "source": [
    "def elem_model(architecture=architecture, activation='relu', dropouts=dropouts,inp_shape=(86,)):\n",
    "        assert '-' in architecture\n",
    "        archs = architecture.strip().split('-')\n",
    "        inp = x = tf.keras.Input(shape=inp_shape)\n",
    "        for i in range(len(archs)):\n",
    "            arch = archs[i]\n",
    "            if 'x' in arch:\n",
    "                arch = arch.split('x')\n",
    "                num_outputs = int(re.findall(r'\\d+',arch[0])[0])\n",
    "                layers = int(re.findall(r'\\d+',arch[1])[0])\n",
    "                j = 0\n",
    "                aux_layers = re.findall(r'[A-Z]',arch[0])\n",
    "                for l in range(layers):\n",
    "                    print('adding fully connected layers with %d outputs' % num_outputs)\n",
    "                    x = tf.keras.layers.Dense(num_outputs,activation=activation)(x)\n",
    "                    j += 1\n",
    "                aux_layers_sub = re.findall(r'[A-Z]', arch[1])\n",
    "                if 'D' in aux_layers_sub and len(dropouts) > i:\n",
    "                    print('adding dropout', dropouts[i])\n",
    "                    x = tf.keras.layers.Dropout(dropouts[i])(x,training=True)\n",
    "            if i==len(archs)-1:\n",
    "                print('adding ouput layer')\n",
    "                y = tf.keras.layers.Dense(1,activation=None)(x)\n",
    "                model = tf.keras.Model(inp,y)\n",
    "        return model\n"
   ]
  },
  {
   "cell_type": "code",
   "execution_count": 10,
   "metadata": {},
   "outputs": [],
   "source": [
    "hparams = {'batch_size':32, 'num_epochs':4000, 'EVAL_FREQUENCY':1000, 'learning_rate':1e-4, \n",
    "                'momentum':0.9, 'lr_drop_rate':0.5, 'epoch_step':500, 'nesterov':True, 'reg_W':0., \n",
    "                'reg_type':'L2', 'patience':200,'patience':1,'verbose':1}\n",
    "\n",
    "def train_test_model(model,train_data,val_data,hparams=hparams):\n",
    "\n",
    "    opt = tf.keras.optimizers.Adam(hparams['learning_rate'])\n",
    "    model.compile(optimizer=opt,\n",
    "                  loss='mae',metrics=['mae'])\n",
    "\n",
    "    model.fit(train_data[0],train_data[1],validation_data=val_data,epochs=hparams['num_epochs'],verbose=hparams['verbose'])\n",
    "    _, accuracy = model.evaluate(val_ds)\n",
    "    return model,accuracy\n",
    "        "
   ]
  },
  {
   "cell_type": "code",
   "execution_count": 11,
   "metadata": {},
   "outputs": [
    {
     "name": "stdout",
     "output_type": "stream",
     "text": [
      "adding fully connected layers with 1024 outputs\n",
      "adding fully connected layers with 1024 outputs\n",
      "adding fully connected layers with 1024 outputs\n",
      "adding fully connected layers with 1024 outputs\n",
      "adding dropout 0.8\n",
      "WARNING:tensorflow:Large dropout rate: 0.8 (>0.5). In TensorFlow 2.x, dropout() uses dropout rate instead of keep_prob. Please ensure that this is intended.\n",
      "adding fully connected layers with 512 outputs\n",
      "adding fully connected layers with 512 outputs\n",
      "adding fully connected layers with 512 outputs\n",
      "adding dropout 0.9\n",
      "WARNING:tensorflow:Large dropout rate: 0.9 (>0.5). In TensorFlow 2.x, dropout() uses dropout rate instead of keep_prob. Please ensure that this is intended.\n",
      "adding fully connected layers with 256 outputs\n",
      "adding fully connected layers with 256 outputs\n",
      "adding fully connected layers with 256 outputs\n",
      "adding dropout 0.7\n",
      "WARNING:tensorflow:Large dropout rate: 0.7 (>0.5). In TensorFlow 2.x, dropout() uses dropout rate instead of keep_prob. Please ensure that this is intended.\n",
      "adding fully connected layers with 128 outputs\n",
      "adding fully connected layers with 128 outputs\n",
      "adding fully connected layers with 128 outputs\n",
      "adding dropout 0.8\n",
      "WARNING:tensorflow:Large dropout rate: 0.8 (>0.5). In TensorFlow 2.x, dropout() uses dropout rate instead of keep_prob. Please ensure that this is intended.\n",
      "adding fully connected layers with 64 outputs\n",
      "adding fully connected layers with 64 outputs\n",
      "adding fully connected layers with 32 outputs\n",
      "adding ouput layer\n"
     ]
    }
   ],
   "source": [
    "model = elem_model()"
   ]
  },
  {
   "cell_type": "code",
   "execution_count": 13,
   "metadata": {},
   "outputs": [],
   "source": [
    "model,accuracy = train_test_model(model,(X_train,y_train),(X_valid,y_valid))"
   ]
  },
  {
   "cell_type": "code",
   "execution_count": null,
   "metadata": {},
   "outputs": [],
   "source": []
  }
 ],
 "metadata": {
  "kernelspec": {
   "display_name": "elemnet",
   "language": "python",
   "name": "elemnet"
  },
  "language_info": {
   "codemirror_mode": {
    "name": "ipython",
    "version": 3
   },
   "file_extension": ".py",
   "mimetype": "text/x-python",
   "name": "python",
   "nbconvert_exporter": "python",
   "pygments_lexer": "ipython3",
   "version": "3.7.4"
  }
 },
 "nbformat": 4,
 "nbformat_minor": 2
}
