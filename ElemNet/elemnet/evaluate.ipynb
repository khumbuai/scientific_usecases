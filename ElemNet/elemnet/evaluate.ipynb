{
 "cells": [
  {
   "cell_type": "markdown",
   "metadata": {},
   "source": [
    "## ElemNet: A formation energy prediction tool from elemental composition"
   ]
  },
  {
   "cell_type": "markdown",
   "metadata": {},
   "source": [
    "A formation energy prediction tool using 17-layered deep neural network trained on the Open Quantum Materials Database (OQMD).\n",
    "<br>\n",
    "**Input**: Takes a numpy array of shape (number_inp_samples,86) with the rows representing different compounds, and columns representing the elemental compositions from the 86 elements of the set:\n",
    "<br>\n",
    "['H', 'Li', 'Be', 'B', 'C', 'N', 'O', 'F', 'Na', 'Mg', 'Al', 'Si', 'P', 'S', 'Cl', 'K', 'Ca', 'Sc', 'Ti', 'V', 'Cr', 'Mn', 'Fe', 'Co', 'Ni', 'Cu', 'Zn', 'Ga', 'Ge', 'As', 'Se', 'Br', 'Kr', 'Rb', 'Sr', 'Y', 'Zr', 'Nb', 'Mo', 'Tc', 'Ru', 'Rh', 'Pd', 'Ag', 'Cd', 'In', 'Sn', 'Sb', 'Te', 'I', 'Xe', 'Cs', 'Ba', 'La', 'Ce', 'Pr', 'Nd', 'Pm', 'Sm', 'Eu', 'Gd', 'Tb', 'Dy', 'Ho', 'Er', 'Tm', 'Yb', 'Lu', 'Hf', 'Ta', 'W', 'Re', 'Os', 'Ir', 'Pt', 'Au', 'Hg', 'Tl', 'Pb', 'Bi', 'Ac', 'Th', 'Pa', 'U', 'Np', 'Pu'],\n",
    "<br> elemental compositon does not contain any element from ['He', 'Ne', 'Ar', 'Po', 'At','Rn','Fr','Ra']\n",
    "<br>\n",
    "**Output**: Returns a array of shape (number_inp_samples,1) with the predicted formation energy"
   ]
  },
  {
   "cell_type": "code",
   "execution_count": 1,
   "metadata": {},
   "outputs": [],
   "source": [
    "import tensorflow as tf\n",
    "import numpy as np\n",
    "import time, os, re\n",
    "from collections import OrderedDict, defaultdict"
   ]
  },
  {
   "cell_type": "code",
   "execution_count": 2,
   "metadata": {},
   "outputs": [],
   "source": [
    "# here the necessary functions for transforming a list of formulas to input arrays is given\n",
    "\n",
    "elements = ['H', 'Li', 'Be', 'B', 'C', 'N', 'O', 'F', 'Na', 'Mg', 'Al', 'Si', 'P', 'S', 'Cl', 'K', 'Ca', 'Sc', 'Ti', 'V', \n",
    "            'Cr', 'Mn', 'Fe', 'Co', 'Ni', 'Cu', 'Zn', 'Ga', 'Ge', 'As', 'Se', 'Br', 'Kr', 'Rb', 'Sr', 'Y', 'Zr', 'Nb', \n",
    "            'Mo', 'Tc', 'Ru', 'Rh', 'Pd', 'Ag', 'Cd', 'In', 'Sn', 'Sb', 'Te', 'I', 'Xe', 'Cs', 'Ba', 'La', 'Ce', 'Pr', \n",
    "            'Nd', 'Pm', 'Sm', 'Eu', 'Gd', 'Tb', 'Dy', 'Ho', 'Er', 'Tm', 'Yb', 'Lu', 'Hf', 'Ta', 'W', 'Re', 'Os', 'Ir', \n",
    "            'Pt', 'Au', 'Hg', 'Tl', 'Pb', 'Bi', 'Ac', 'Th', 'Pa', 'U', 'Np', 'Pu']\n",
    "\n",
    "formulare = re.compile(r'([A-Z][a-z]*)(\\d*)')\n",
    "\n",
    "def parse_formula(formula):\n",
    "    pairs = formulare.findall(formula)\n",
    "    length = sum((len(p[0]) + len(p[1]) for p in pairs))\n",
    "    assert length == len(formula)\n",
    "    formula_dict = defaultdict(int)\n",
    "    for el, sub in pairs:\n",
    "        formula_dict[el] += float(sub) if sub else 1\n",
    "    return formula_dict\n",
    "\n",
    "def formula2array(formulas):\n",
    "    samp_input = np.zeros(shape=(len(formulas), 86), dtype=np.float32)\n",
    "    i = -1\n",
    "    for formula in formulas:\n",
    "        i+=1\n",
    "        keys = formula.keys()\n",
    "        values = formula.values()\n",
    "        total = float(sum(values))\n",
    "        for k in keys:\n",
    "            samp_input[i][elements.index(k)] = formula[k]/total\n",
    "    return samp_input"
   ]
  },
  {
   "cell_type": "code",
   "execution_count": 3,
   "metadata": {},
   "outputs": [
    {
     "name": "stdout",
     "output_type": "stream",
     "text": [
      "The input dict for the provided formulas are:\n",
      "[defaultdict(<class 'int'>, {'H': 2.0, 'O': 1}), defaultdict(<class 'int'>, {'Na': 1, 'Cl': 1}), defaultdict(<class 'int'>, {'H': 2.0, 'S': 1, 'O': 4.0})]\n",
      "sampel input for H2O:\n",
      "[0.6666667  0.         0.         0.         0.         0.\n",
      " 0.33333334 0.         0.         0.         0.         0.\n",
      " 0.         0.         0.         0.         0.         0.\n",
      " 0.         0.         0.         0.         0.         0.\n",
      " 0.         0.         0.         0.         0.         0.\n",
      " 0.         0.         0.         0.         0.         0.\n",
      " 0.         0.         0.         0.         0.         0.\n",
      " 0.         0.         0.         0.         0.         0.\n",
      " 0.         0.         0.         0.         0.         0.\n",
      " 0.         0.         0.         0.         0.         0.\n",
      " 0.         0.         0.         0.         0.         0.\n",
      " 0.         0.         0.         0.         0.         0.\n",
      " 0.         0.         0.         0.         0.         0.\n",
      " 0.         0.         0.         0.         0.         0.\n",
      " 0.         0.        ]\n"
     ]
    }
   ],
   "source": [
    "# workflow example\n",
    "formulas_str = ['H2O','NaCl', 'H2SO4'] # first a list of formulas (strings) must be defined \n",
    "formulas = [parse_formula(x) for x in formulas_str] # the \"formula strings\" are then transformed to dicts \n",
    "                                                # where elements are keys and respective element counts the values\n",
    "print('The input dict for the provided formulas are:')\n",
    "print(formulas)\n",
    "inp = formula2array(formulas) # the input dicts are finally translated to input arrays of shape (num_samples,len(elements))\n",
    "k=0\n",
    "print(f'sampel input for {formulas_str[k]}:')\n",
    "print(inp[k])"
   ]
  },
  {
   "cell_type": "code",
   "execution_count": 5,
   "metadata": {},
   "outputs": [
    {
     "name": "stdout",
     "output_type": "stream",
     "text": [
      "The predicted formation energies are:\n"
     ]
    },
    {
     "data": {
      "text/plain": [
       "{'H2O': array([-0.188], dtype=float32),\n",
       " 'NaCl': array([-2.079], dtype=float32),\n",
       " 'H2SO4': array([-1.475], dtype=float32)}"
      ]
     },
     "execution_count": 5,
     "metadata": {},
     "output_type": "execute_result"
    }
   ],
   "source": [
    "# now the pretrained model can be loaded for inference\n",
    "from tensorflow.keras.models import load_model\n",
    "path = 'sample/model.h5' # path to model\n",
    "model = load_model(path)\n",
    "\n",
    "print('The predicted formation energies are:')\n",
    "preds = np.round(model.predict(inp),3)\n",
    "{formulas_str[k]:preds[k] for k in range(len(preds))}"
   ]
  },
  {
   "cell_type": "code",
   "execution_count": 6,
   "metadata": {},
   "outputs": [
    {
     "data": {
      "text/plain": [
       "array([[-1.6301346]], dtype=float32)"
      ]
     },
     "execution_count": 6,
     "metadata": {},
     "output_type": "execute_result"
    }
   ],
   "source": [
    "# and the workflow as a single function (from formulas to predictions):\n",
    "def formula2pred(formulas,model):\n",
    "    formulas = [parse_formula(x) for x in formulas]\n",
    "    return model.predict(formula2array(formulas))\n",
    " \n",
    "formula2pred(['Cs1Ho1S4Si1'],model)"
   ]
  },
  {
   "cell_type": "code",
   "execution_count": 7,
   "metadata": {},
   "outputs": [
    {
     "data": {
      "text/html": [
       "<div>\n",
       "<style scoped>\n",
       "    .dataframe tbody tr th:only-of-type {\n",
       "        vertical-align: middle;\n",
       "    }\n",
       "\n",
       "    .dataframe tbody tr th {\n",
       "        vertical-align: top;\n",
       "    }\n",
       "\n",
       "    .dataframe thead th {\n",
       "        text-align: right;\n",
       "    }\n",
       "</style>\n",
       "<table border=\"1\" class=\"dataframe\">\n",
       "  <thead>\n",
       "    <tr style=\"text-align: right;\">\n",
       "      <th></th>\n",
       "      <th>comp</th>\n",
       "      <th>energy_pa</th>\n",
       "      <th>volume_pa</th>\n",
       "      <th>magmom_pa</th>\n",
       "      <th>bandgap</th>\n",
       "      <th>delta_e</th>\n",
       "      <th>stability</th>\n",
       "    </tr>\n",
       "  </thead>\n",
       "  <tbody>\n",
       "    <tr>\n",
       "      <th>0</th>\n",
       "      <td>Cs1Ho1S4Si1</td>\n",
       "      <td>-5.353489</td>\n",
       "      <td>27.1652</td>\n",
       "      <td>0.000069</td>\n",
       "      <td>3.024</td>\n",
       "      <td>-1.608940</td>\n",
       "      <td>-0.064029</td>\n",
       "    </tr>\n",
       "    <tr>\n",
       "      <th>1</th>\n",
       "      <td>Lu1</td>\n",
       "      <td>-4.511592</td>\n",
       "      <td>28.7838</td>\n",
       "      <td>0.046445</td>\n",
       "      <td>0.000</td>\n",
       "      <td>0.012590</td>\n",
       "      <td>0.012590</td>\n",
       "    </tr>\n",
       "    <tr>\n",
       "      <th>2</th>\n",
       "      <td>Tm1</td>\n",
       "      <td>-4.468631</td>\n",
       "      <td>29.5370</td>\n",
       "      <td>0.020100</td>\n",
       "      <td>0.000</td>\n",
       "      <td>0.006394</td>\n",
       "      <td>0.006394</td>\n",
       "    </tr>\n",
       "    <tr>\n",
       "      <th>3</th>\n",
       "      <td>Ne1</td>\n",
       "      <td>-0.029181</td>\n",
       "      <td>21.7199</td>\n",
       "      <td>NaN</td>\n",
       "      <td>11.910</td>\n",
       "      <td>0.000137</td>\n",
       "      <td>0.000137</td>\n",
       "    </tr>\n",
       "    <tr>\n",
       "      <th>4</th>\n",
       "      <td>La1</td>\n",
       "      <td>-4.804203</td>\n",
       "      <td>37.7862</td>\n",
       "      <td>0.582882</td>\n",
       "      <td>0.000</td>\n",
       "      <td>0.131232</td>\n",
       "      <td>0.131232</td>\n",
       "    </tr>\n",
       "  </tbody>\n",
       "</table>\n",
       "</div>"
      ],
      "text/plain": [
       "          comp  energy_pa  volume_pa  magmom_pa  bandgap   delta_e  stability\n",
       "0  Cs1Ho1S4Si1  -5.353489    27.1652   0.000069    3.024 -1.608940  -0.064029\n",
       "1          Lu1  -4.511592    28.7838   0.046445    0.000  0.012590   0.012590\n",
       "2          Tm1  -4.468631    29.5370   0.020100    0.000  0.006394   0.006394\n",
       "3          Ne1  -0.029181    21.7199        NaN   11.910  0.000137   0.000137\n",
       "4          La1  -4.804203    37.7862   0.582882    0.000  0.131232   0.131232"
      ]
     },
     "execution_count": 7,
     "metadata": {},
     "output_type": "execute_result"
    }
   ],
   "source": [
    "# sample compositions (column: comp) and related energies (column: delta_e) can be obatained by the following df \n",
    "import pandas as pd\n",
    "\n",
    "oqmd_data_path = '../training-data/oqmd_all-22Mar18.csv'\n",
    "oqmd_data = pd.read_csv(oqmd_data_path,sep=r\"\\s+\",engine='python', na_values= 'None',error_bad_lines=False)\n",
    "oqmd_data.head()"
   ]
  },
  {
   "cell_type": "code",
   "execution_count": 9,
   "metadata": {},
   "outputs": [
    {
     "name": "stdout",
     "output_type": "stream",
     "text": [
      "train data path is  ../training-data/train_set.csv\n",
      "input attribute sets are:  ['elements_tl']\n",
      "test data path is  ../training-data/test_set.csv\n",
      "input attributes are:  ['H', 'Li', 'Be', 'B', 'C', 'N', 'O', 'F', 'Na', 'Mg', 'Al', 'Si', 'P', 'S', 'Cl', 'K', 'Ca', 'Sc', 'Ti', 'V', 'Cr', 'Mn', 'Fe', 'Co', 'Ni', 'Cu', 'Zn', 'Ga', 'Ge', 'As', 'Se', 'Br', 'Kr', 'Rb', 'Sr', 'Y', 'Zr', 'Nb', 'Mo', 'Tc', 'Ru', 'Rh', 'Pd', 'Ag', 'Cd', 'In', 'Sn', 'Sb', 'Te', 'I', 'Xe', 'Cs', 'Ba', 'La', 'Ce', 'Pr', 'Nd', 'Pm', 'Sm', 'Eu', 'Gd', 'Tb', 'Dy', 'Ho', 'Er', 'Tm', 'Yb', 'Lu', 'Hf', 'Ta', 'W', 'Re', 'Os', 'Ir', 'Pt', 'Au', 'Hg', 'Tl', 'Pb', 'Bi', 'Ac', 'Th', 'Pa', 'U', 'Np', 'Pu']\n",
      "label: delta_e\n",
      "           energy_pa      volume_pa      magmom_pa        bandgap  \\\n",
      "count  307305.000000  307305.000000  208214.000000  307305.000000   \n",
      "mean       -5.498033      22.045599       0.419167       0.141143   \n",
      "std         1.940040       7.951182       0.604534       0.676448   \n",
      "min       -13.575205       4.149110      -4.248135       0.000000   \n",
      "25%        -6.821718      16.303500       0.000265       0.000000   \n",
      "50%        -5.417986      20.666800       0.163331       0.000000   \n",
      "75%        -4.090056      26.220200       0.713047       0.000000   \n",
      "max         0.672970     203.685000       5.003270      10.340000   \n",
      "\n",
      "             delta_e      stability              H             Li  \\\n",
      "count  307305.000000  290047.000000  307305.000000  307305.000000   \n",
      "mean        0.005359       0.485570       0.003216       0.015558   \n",
      "std         0.857282       1.146317       0.038408       0.071317   \n",
      "min        -4.284843      -3.306395       0.000000       0.000000   \n",
      "25%        -0.262437       0.182271       0.000000       0.000000   \n",
      "50%         0.114133       0.395746       0.000000       0.000000   \n",
      "75%         0.473013       0.670390       0.000000       0.000000   \n",
      "max         4.061899     198.836034       0.888889       0.833333   \n",
      "\n",
      "                  Be              B      ...                   Hg  \\\n",
      "count  307305.000000  307305.000000      ...        307305.000000   \n",
      "mean        0.013536       0.014170      ...             0.012598   \n",
      "std         0.067432       0.070528      ...             0.065352   \n",
      "min         0.000000       0.000000      ...             0.000000   \n",
      "25%         0.000000       0.000000      ...             0.000000   \n",
      "50%         0.000000       0.000000      ...             0.000000   \n",
      "75%         0.000000       0.000000      ...             0.000000   \n",
      "max         0.928571       0.937500      ...             0.916667   \n",
      "\n",
      "                  Tl             Pb             Bi             Ac  \\\n",
      "count  307305.000000  307305.000000  307305.000000  307305.000000   \n",
      "mean        0.013140       0.013143       0.013340       0.010555   \n",
      "std         0.066303       0.066303       0.066979       0.061488   \n",
      "min         0.000000       0.000000       0.000000       0.000000   \n",
      "25%         0.000000       0.000000       0.000000       0.000000   \n",
      "50%         0.000000       0.000000       0.000000       0.000000   \n",
      "75%         0.000000       0.000000       0.000000       0.000000   \n",
      "max         0.857143       0.833333       0.833333       0.833333   \n",
      "\n",
      "                  Th             Pa              U             Np  \\\n",
      "count  307305.000000  307305.000000  307305.000000  307305.000000   \n",
      "mean        0.009926       0.010275       0.009923       0.009517   \n",
      "std         0.060088       0.060805       0.058679       0.058862   \n",
      "min         0.000000       0.000000       0.000000       0.000000   \n",
      "25%         0.000000       0.000000       0.000000       0.000000   \n",
      "50%         0.000000       0.000000       0.000000       0.000000   \n",
      "75%         0.000000       0.000000       0.000000       0.000000   \n",
      "max         0.750000       0.750000       0.857143       0.750000   \n",
      "\n",
      "                  Pu  \n",
      "count  307305.000000  \n",
      "mean        0.009498  \n",
      "std         0.058882  \n",
      "min         0.000000  \n",
      "25%         0.000000  \n",
      "50%         0.000000  \n",
      "75%         0.000000  \n",
      "max         0.750000  \n",
      "\n",
      "[8 rows x 92 columns]\n",
      "          energy_pa     volume_pa     magmom_pa       bandgap       delta_e  \\\n",
      "count  34145.000000  34145.000000  23161.000000  34145.000000  34145.000000   \n",
      "mean      -5.513782     21.986454      0.414948      0.138381      0.005785   \n",
      "std        1.944623      7.952424      0.604046      0.673754      0.860145   \n",
      "min      -13.236726      5.843500     -3.590112      0.000000     -4.269834   \n",
      "25%       -6.851200     16.289500      0.000264      0.000000     -0.257098   \n",
      "50%       -5.447049     20.540400      0.150290      0.000000      0.116595   \n",
      "75%       -4.107817     26.076300      0.703177      0.000000      0.478919   \n",
      "max       -0.534753    102.309000      5.035564      8.606000      3.060611   \n",
      "\n",
      "          stability             H            Li            Be             B  \\\n",
      "count  32228.000000  34145.000000  34145.000000  34145.000000  34145.000000   \n",
      "mean       0.482390      0.003043      0.015801      0.013110      0.015562   \n",
      "std        0.716805      0.036765      0.072299      0.066222      0.074108   \n",
      "min       -3.171397      0.000000      0.000000      0.000000      0.000000   \n",
      "25%        0.185591      0.000000      0.000000      0.000000      0.000000   \n",
      "50%        0.397499      0.000000      0.000000      0.000000      0.000000   \n",
      "75%        0.675345      0.000000      0.000000      0.000000      0.000000   \n",
      "max       74.852599      0.750000      0.750000      0.928571      0.923077   \n",
      "\n",
      "           ...                 Hg            Tl            Pb            Bi  \\\n",
      "count      ...       34145.000000  34145.000000  34145.000000  34145.000000   \n",
      "mean       ...           0.012260      0.013376      0.012927      0.013431   \n",
      "std        ...           0.064120      0.066868      0.065637      0.067519   \n",
      "min        ...           0.000000      0.000000      0.000000      0.000000   \n",
      "25%        ...           0.000000      0.000000      0.000000      0.000000   \n",
      "50%        ...           0.000000      0.000000      0.000000      0.000000   \n",
      "75%        ...           0.000000      0.000000      0.000000      0.000000   \n",
      "max        ...           0.916667      0.750000      0.750000      0.800000   \n",
      "\n",
      "                 Ac            Th            Pa             U            Np  \\\n",
      "count  34145.000000  34145.000000  34145.000000  34145.000000  34145.000000   \n",
      "mean       0.010493      0.009895      0.010307      0.010007      0.009985   \n",
      "std        0.061323      0.059147      0.061005      0.059182      0.060238   \n",
      "min        0.000000      0.000000      0.000000      0.000000      0.000000   \n",
      "25%        0.000000      0.000000      0.000000      0.000000      0.000000   \n",
      "50%        0.000000      0.000000      0.000000      0.000000      0.000000   \n",
      "75%        0.000000      0.000000      0.000000      0.000000      0.000000   \n",
      "max        0.750000      0.750000      0.750000      0.750000      0.750000   \n",
      "\n",
      "                 Pu  \n",
      "count  34145.000000  \n",
      "mean       0.009424  \n",
      "std        0.058724  \n",
      "min        0.000000  \n",
      "25%        0.000000  \n",
      "50%        0.000000  \n",
      "75%        0.000000  \n",
      "max        0.857143  \n",
      "\n",
      "[8 rows x 92 columns]\n",
      "          energy_pa     volume_pa     magmom_pa       bandgap       delta_e  \\\n",
      "count  34145.000000  34145.000000  23161.000000  34145.000000  34145.000000   \n",
      "mean      -5.513782     21.986454      0.414948      0.138381      0.005785   \n",
      "std        1.944623      7.952424      0.604046      0.673754      0.860145   \n",
      "min      -13.236726      5.843500     -3.590112      0.000000     -4.269834   \n",
      "25%       -6.851200     16.289500      0.000264      0.000000     -0.257098   \n",
      "50%       -5.447049     20.540400      0.150290      0.000000      0.116595   \n",
      "75%       -4.107817     26.076300      0.703177      0.000000      0.478919   \n",
      "max       -0.534753    102.309000      5.035564      8.606000      3.060611   \n",
      "\n",
      "          stability             H            Li            Be             B  \\\n",
      "count  32228.000000  34145.000000  34145.000000  34145.000000  34145.000000   \n",
      "mean       0.482390      0.003043      0.015801      0.013110      0.015562   \n",
      "std        0.716805      0.036765      0.072299      0.066222      0.074108   \n",
      "min       -3.171397      0.000000      0.000000      0.000000      0.000000   \n",
      "25%        0.185591      0.000000      0.000000      0.000000      0.000000   \n",
      "50%        0.397499      0.000000      0.000000      0.000000      0.000000   \n",
      "75%        0.675345      0.000000      0.000000      0.000000      0.000000   \n",
      "max       74.852599      0.750000      0.750000      0.928571      0.923077   \n",
      "\n",
      "           ...                 Hg            Tl            Pb            Bi  \\\n",
      "count      ...       34145.000000  34145.000000  34145.000000  34145.000000   \n",
      "mean       ...           0.012260      0.013376      0.012927      0.013431   \n",
      "std        ...           0.064120      0.066868      0.065637      0.067519   \n",
      "min        ...           0.000000      0.000000      0.000000      0.000000   \n",
      "25%        ...           0.000000      0.000000      0.000000      0.000000   \n",
      "50%        ...           0.000000      0.000000      0.000000      0.000000   \n",
      "75%        ...           0.000000      0.000000      0.000000      0.000000   \n",
      "max        ...           0.916667      0.750000      0.750000      0.800000   \n",
      "\n",
      "                 Ac            Th            Pa             U            Np  \\\n",
      "count  34145.000000  34145.000000  34145.000000  34145.000000  34145.000000   \n",
      "mean       0.010493      0.009895      0.010307      0.010007      0.009985   \n",
      "std        0.061323      0.059147      0.061005      0.059182      0.060238   \n",
      "min        0.000000      0.000000      0.000000      0.000000      0.000000   \n",
      "25%        0.000000      0.000000      0.000000      0.000000      0.000000   \n",
      "50%        0.000000      0.000000      0.000000      0.000000      0.000000   \n",
      "75%        0.000000      0.000000      0.000000      0.000000      0.000000   \n",
      "max        0.750000      0.750000      0.750000      0.750000      0.750000   \n",
      "\n",
      "                 Pu  \n",
      "count  34145.000000  \n",
      "mean       0.009424  \n",
      "std        0.058724  \n",
      "min        0.000000  \n",
      "25%        0.000000  \n",
      "50%        0.000000  \n",
      "75%        0.000000  \n",
      "max        0.857143  \n",
      "\n",
      "[8 rows x 92 columns]\n",
      " train, test, valid sizes:  (307305, 86) (307305,) (34145, 86) (34145,) (34145, 86) (34145,)\n"
     ]
    }
   ],
   "source": [
    "# the model was trained and tested on the following datasets\n",
    "from data_utils import load_csv\n",
    "\n",
    "config = {\"loss_type\": \"mae\", \"log_file\": \"sample.log\", \"config_file\": \"sample/job.config\", \"use_valid\": False, \n",
    "         \"test_metric\": \"mae\", \"test_data_path\": \"../training-data/test_set.csv\", \"label\": \"delta_e\", \n",
    "         \"project\": \"ElemNet\", \"input_types\": [\"elements_tl\"], \"train_data_path\": \"../training-data/train_set.csv\", \n",
    "         \"architecture\": \"1024x4D-512x3D-256x3D-128x3D-64x2-32x1-1\", \"save_path\":\"sample/sample_model\",\"dataset\": \"OQMD\"}\n",
    "\n",
    "X_train, y_train, X_valid, y_valid, X_test, y_test = load_csv(config['train_data_path'],\n",
    "                                                              test_data_path=config['test_data_path'],\n",
    "                                                              input_types=config['input_types'],\n",
    "                                                              label=config['label'])\n",
    "# train set\n",
    "X_train = X_train.astype('float32')\n",
    "y_train = y_train.astype('float32')\n",
    "# validation set\n",
    "X_valid = X_valid.astype('float32') \n",
    "y_valid = y_valid.astype('float32')\n",
    "# test set\n",
    "X_test = X_test.astype('float32')\n",
    "y_test = y_test.astype('float32')"
   ]
  },
  {
   "cell_type": "code",
   "execution_count": 10,
   "metadata": {},
   "outputs": [
    {
     "data": {
      "text/plain": [
       "0.04863117278486311"
      ]
     },
     "execution_count": 10,
     "metadata": {},
     "output_type": "execute_result"
    }
   ],
   "source": [
    "# finally, we can evaluate the model performance (with respect to MAE) on the test set\n",
    "\n",
    "def test_model(model,X,y, batch_size=100):\n",
    "    count=0\n",
    "    abs_error = 0\n",
    "    while count*batch_size<len(y)-1:\n",
    "        ind = count*batch_size\n",
    "        pred = model.predict(X[ind:ind+batch_size])\n",
    "        abs_error += np.abs(pred.squeeze()-y[ind:ind+batch_size]).sum()\n",
    "        count+=1\n",
    "    return abs_error/len(y)\n",
    " \n",
    "mae = test_model(model,X_test,y_test)\n",
    "mae"
   ]
  },
  {
   "cell_type": "code",
   "execution_count": 12,
   "metadata": {},
   "outputs": [
    {
     "name": "stdout",
     "output_type": "stream",
     "text": [
      "0.58809125\n"
     ]
    },
    {
     "data": {
      "text/plain": [
       "0.08269324264680687"
      ]
     },
     "execution_count": 12,
     "metadata": {},
     "output_type": "execute_result"
    }
   ],
   "source": [
    "# To get a feeling for the model performance, the average absolute deviation between ground truth samples and their mean should be helpful:\n",
    "dev = np.abs(y_test-y_test.mean()).mean()\n",
    "print(dev)\n",
    "# as well as the mae of the model predictions divided by this quantity\n",
    "mae/dev"
   ]
  },
  {
   "cell_type": "code",
   "execution_count": null,
   "metadata": {},
   "outputs": [],
   "source": []
  }
 ],
 "metadata": {
  "kernelspec": {
   "display_name": "elemnet",
   "language": "python",
   "name": "elemnet"
  },
  "language_info": {
   "codemirror_mode": {
    "name": "ipython",
    "version": 3
   },
   "file_extension": ".py",
   "mimetype": "text/x-python",
   "name": "python",
   "nbconvert_exporter": "python",
   "pygments_lexer": "ipython3",
   "version": "3.7.4"
  }
 },
 "nbformat": 4,
 "nbformat_minor": 2
}
